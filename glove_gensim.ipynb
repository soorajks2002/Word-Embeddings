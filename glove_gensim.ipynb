{
  "nbformat": 4,
  "nbformat_minor": 0,
  "metadata": {
    "colab": {
      "provenance": []
    },
    "kernelspec": {
      "name": "python3",
      "display_name": "Python 3"
    },
    "language_info": {
      "name": "python"
    }
  },
  "cells": [
    {
      "cell_type": "code",
      "execution_count": null,
      "metadata": {
        "id": "n-tcT6ZuyAls"
      },
      "outputs": [],
      "source": [
        "import gensim.downloader"
      ]
    },
    {
      "cell_type": "code",
      "source": [
        "glove = gensim.downloader.load('glove-wiki-gigaword-300')"
      ],
      "metadata": {
        "id": "B4mSxF15yVRA"
      },
      "execution_count": null,
      "outputs": []
    },
    {
      "cell_type": "code",
      "source": [
        "glove.most_similar('sun')"
      ],
      "metadata": {
        "id": "fkEeJOeMyXDe"
      },
      "execution_count": null,
      "outputs": []
    }
  ]
}